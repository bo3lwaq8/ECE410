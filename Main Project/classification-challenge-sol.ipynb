{
 "cells": [
  {
   "cell_type": "code",
   "execution_count": 3,
   "metadata": {},
   "outputs": [],
   "source": [
    "import tensorflow as tf\n",
    "from tensorflow import keras\n",
    "from tensorflow.keras.models import Sequential\n",
    "from tensorflow.keras.preprocessing.image import ImageDataGenerator\n",
    "\n",
    "from sklearn.metrics import classification_report\n",
    "from sklearn.metrics import confusion_matrix\n",
    "\n",
    "from tensorflow.keras.callbacks import EarlyStopping\n",
    "from tensorflow.keras import layers\n",
    "\n",
    "import matplotlib.pyplot as plt\n",
    "import numpy"
   ]
  },
  {
   "cell_type": "code",
   "execution_count": 4,
   "metadata": {},
   "outputs": [],
   "source": [
    "#Construct an ImageDataGenerator object:\n",
    "DIRECTORY = \"Covid19-dataset/train\"\n",
    "CLASS_MODE = \"categorical\"\n",
    "COLOR_MODE = \"grayscale\"\n",
    "TARGET_SIZE = (256,256)\n",
    "BATCH_SIZE = 32\n",
    "\n",
    "training_data_generator = ImageDataGenerator(rescale=1.0/255,\n",
    "\n",
    "#Randomly increase or decrease the size of the image by up to 10%\n",
    "zoom_range=0.1, \n",
    "\n",
    "#Randomly rotate the image between -25,25 degrees\n",
    "rotation_range=25, \n",
    "\n",
    "#Shift the image along its width by up to +/- 5%\n",
    "width_shift_range=0.05, \n",
    "\n",
    "#Shift the image along its height by up to +/- 5%\n",
    "height_shift_range=0.05,\n",
    "\n",
    ")\n",
    "\n",
    "validation_data_generator = ImageDataGenerator()"
   ]
  },
  {
   "cell_type": "code",
   "execution_count": 5,
   "metadata": {},
   "outputs": [
    {
     "name": "stdout",
     "output_type": "stream",
     "text": [
      "Found 251 images belonging to 3 classes.\n"
     ]
    },
    {
     "name": "stdout",
     "output_type": "stream",
     "text": [
      "\n",
      "Loading validation data...\n",
      "Found 251 images belonging to 3 classes.\n"
     ]
    }
   ],
   "source": [
    "training_iterator = training_data_generator.flow_from_directory(DIRECTORY,class_mode='categorical',color_mode='grayscale',batch_size=BATCH_SIZE)#, subset='training')\n",
    "\n",
    "training_iterator.next()\n",
    "\n",
    "print(\"\\nLoading validation data...\")\n",
    "\n",
    "\n",
    "validation_iterator = validation_data_generator.flow_from_directory(DIRECTORY,class_mode='categorical', color_mode='grayscale',batch_size=BATCH_SIZE)#, subset='validation')"
   ]
  },
  {
   "cell_type": "code",
   "execution_count": 6,
   "metadata": {},
   "outputs": [
    {
     "name": "stdout",
     "output_type": "stream",
     "text": [
      "\n",
      "Building model...\n"
     ]
    }
   ],
   "source": [
    "#Print its attributes:\n",
    "# print(training_data_generator.__dict__)\n",
    "\n",
    "\n",
    "print(\"\\nBuilding model...\")\n",
    "\n",
    "def design_model(training_data):\n",
    "    # sequential model\n",
    "    model = Sequential()\n",
    "    # add input layer with grayscale image shape\n",
    "    model.add(tf.keras.Input(shape=(256, 256, 1)))\n",
    "    # convolutional hidden layers with relu functions\n",
    "    # maxpooling layers and dropout layers as well\n",
    "    model.add(layers.Conv2D(5, 5, strides=3, activation=\"relu\")) \n",
    "    model.add(layers.MaxPooling2D(\n",
    "        pool_size=(2, 2), strides=(2,2)))\n",
    "    model.add(layers.Dropout(0.1))\n",
    "    model.add(layers.Conv2D(3, 3, strides=1, activation=\"relu\")) \n",
    "    model.add(layers.MaxPooling2D(\n",
    "        pool_size=(2, 2), strides=(2,2)))\n",
    "    model.add(layers.Dropout(0.2))\n",
    "\n",
    "    # experimenting with extra layesr\n",
    "    #model.add(tf.keras.layers.Conv2D(3, 3, strides=1, activation=\"relu\"))\n",
    "    #model.add(tf.keras.layers.Conv2D(1, 1, strides=1, activation=\"relu\"))\n",
    "    #model.add(tf.keras.layers.Dropout(0.1))\n",
    "\n",
    "    model.add(layers.Flatten())\n",
    "    # output layer with softmax activation function\n",
    "    model.add(layers.Dense(3,activation=\"softmax\"))\n",
    "    # compile model with Adam optimizer\n",
    "    # loss function is categorical crossentropy\n",
    "    # metrics are categorical accuracy and AUC\n",
    "    print(\"\\nCompiling model...\")\n",
    "    model.compile(optimizer=tf.keras.optimizers.Adam(learning_rate=.001), loss=tf.keras.losses.CategoricalCrossentropy(), metrics=[tf.keras.metrics.CategoricalAccuracy(),tf.keras.metrics.AUC()],)\n",
    "    # summarize model\n",
    "    model.summary()\n",
    "    return model"
   ]
  },
  {
   "cell_type": "code",
   "execution_count": 7,
   "metadata": {},
   "outputs": [
    {
     "name": "stdout",
     "output_type": "stream",
     "text": [
      "\n",
      "Compiling model...\n",
      "Model: \"sequential\"\n",
      "_________________________________________________________________\n",
      " Layer (type)                Output Shape              Param #   \n",
      "=================================================================\n",
      " conv2d (Conv2D)             (None, 84, 84, 5)         130       \n",
      "                                                                 \n",
      " max_pooling2d (MaxPooling2  (None, 42, 42, 5)         0         \n",
      " D)                                                              \n",
      "                                                                 \n",
      " dropout (Dropout)           (None, 42, 42, 5)         0         \n",
      "                                                                 \n",
      " conv2d_1 (Conv2D)           (None, 40, 40, 3)         138       \n",
      "                                                                 \n",
      " max_pooling2d_1 (MaxPoolin  (None, 20, 20, 3)         0         \n",
      " g2D)                                                            \n",
      "                                                                 \n",
      " dropout_1 (Dropout)         (None, 20, 20, 3)         0         \n",
      "                                                                 \n",
      " flatten (Flatten)           (None, 1200)              0         \n",
      "                                                                 \n",
      " dense (Dense)               (None, 3)                 3603      \n",
      "                                                                 \n",
      "=================================================================\n",
      "Total params: 3871 (15.12 KB)\n",
      "Trainable params: 3871 (15.12 KB)\n",
      "Non-trainable params: 0 (0.00 Byte)\n",
      "_________________________________________________________________\n"
     ]
    }
   ],
   "source": [
    "# use model function\n",
    "model = design_model(training_iterator)"
   ]
  },
  {
   "cell_type": "code",
   "execution_count": 8,
   "metadata": {},
   "outputs": [],
   "source": [
    "# early stopping implementation\n",
    "es = EarlyStopping(monitor='val_auc', mode='min', verbose=1, patience=20)"
   ]
  },
  {
   "cell_type": "code",
   "execution_count": 10,
   "metadata": {},
   "outputs": [
    {
     "name": "stdout",
     "output_type": "stream",
     "text": [
      "\n",
      "Training model...\n",
      "Epoch 1/10\n",
      "7/7 [==============================] - 3s 437ms/step - loss: 0.6165 - categorical_accuracy: 0.7131 - auc: 0.8969 - val_loss: 36.9307 - val_categorical_accuracy: 0.7888 - val_auc: 0.8438\n",
      "Epoch 2/10\n",
      "7/7 [==============================] - 3s 395ms/step - loss: 0.6523 - categorical_accuracy: 0.7092 - auc: 0.8803 - val_loss: 30.2947 - val_categorical_accuracy: 0.8327 - val_auc: 0.8772\n",
      "Epoch 3/10\n",
      "7/7 [==============================] - 3s 365ms/step - loss: 0.5583 - categorical_accuracy: 0.7610 - auc: 0.9145 - val_loss: 26.9424 - val_categorical_accuracy: 0.8805 - val_auc: 0.9101\n",
      "Epoch 4/10\n",
      "7/7 [==============================] - 3s 393ms/step - loss: 0.5253 - categorical_accuracy: 0.7809 - auc: 0.9235 - val_loss: 29.5023 - val_categorical_accuracy: 0.8606 - val_auc: 0.8954\n",
      "Epoch 5/10\n",
      "7/7 [==============================] - 3s 363ms/step - loss: 0.5005 - categorical_accuracy: 0.7928 - auc: 0.9313 - val_loss: 27.8580 - val_categorical_accuracy: 0.8964 - val_auc: 0.9217\n",
      "Epoch 6/10\n",
      "7/7 [==============================] - 3s 342ms/step - loss: 0.4318 - categorical_accuracy: 0.8526 - auc: 0.9488 - val_loss: 26.9086 - val_categorical_accuracy: 0.9084 - val_auc: 0.9313\n",
      "Epoch 7/10\n",
      "7/7 [==============================] - 3s 335ms/step - loss: 0.4245 - categorical_accuracy: 0.8406 - auc: 0.9497 - val_loss: 29.9144 - val_categorical_accuracy: 0.8845 - val_auc: 0.9131\n",
      "Epoch 8/10\n",
      "7/7 [==============================] - 3s 348ms/step - loss: 0.3952 - categorical_accuracy: 0.8446 - auc: 0.9578 - val_loss: 28.2484 - val_categorical_accuracy: 0.9124 - val_auc: 0.9343\n",
      "Epoch 9/10\n",
      "7/7 [==============================] - 3s 329ms/step - loss: 0.3959 - categorical_accuracy: 0.8526 - auc: 0.9557 - val_loss: 31.4125 - val_categorical_accuracy: 0.8964 - val_auc: 0.9223\n",
      "Epoch 10/10\n",
      "7/7 [==============================] - 3s 346ms/step - loss: 0.4172 - categorical_accuracy: 0.8446 - auc: 0.9522 - val_loss: 32.8547 - val_categorical_accuracy: 0.8964 - val_auc: 0.9251\n"
     ]
    }
   ],
   "source": [
    "print(\"\\nTraining model...\")\n",
    "# fit the model with 10 ephochs and early stopping\n",
    "history =model.fit(\n",
    "        training_iterator,\n",
    "        steps_per_epoch=training_iterator.samples/BATCH_SIZE, epochs=10,\n",
    "        validation_data=validation_iterator,\n",
    "        validation_steps=validation_iterator.samples/BATCH_SIZE,\n",
    "        callbacks=[es])"
   ]
  },
  {
   "cell_type": "code",
   "execution_count": 11,
   "metadata": {},
   "outputs": [
    {
     "data": {
      "image/png": "[encoded data removed]",
      "text/plain": [
       "<Figure size 640x480 with 2 Axes>"
      ]
     },
     "metadata": {},
     "output_type": "display_data"
    }
   ],
   "source": [
    "# plotting categorical and validation accuracy over epochs\n",
    "fig = plt.figure()\n",
    "ax1 = fig.add_subplot(2, 1, 1)\n",
    "ax1.plot(history.history['categorical_accuracy'])\n",
    "ax1.plot(history.history['val_categorical_accuracy'])\n",
    "ax1.set_title('model accuracy')\n",
    "ax1.set_xlabel('epoch')\n",
    "ax1.set_ylabel('accuracy')\n",
    "ax1.legend(['train', 'validation'], loc='upper left')\n",
    "\n",
    "# plotting auc and validation auc over epochs\n",
    "ax2 = fig.add_subplot(2, 1, 2)\n",
    "ax2.plot(history.history['auc'])\n",
    "ax2.plot(history.history['val_auc'])\n",
    "ax2.set_title('model auc')\n",
    "ax2.set_xlabel('epoch')\n",
    "ax2.set_ylabel('auc')\n",
    "ax2.legend(['train', 'validation'], loc='upper left')\n",
    "\n",
    "plt.show()"
   ]
  },
  {
   "cell_type": "code",
   "execution_count": 12,
   "metadata": {},
   "outputs": [
    {
     "name": "stdout",
     "output_type": "stream",
     "text": [
      "8/8 [==============================] - 1s 90ms/step\n",
      "              precision    recall  f1-score   support\n",
      "\n",
      "       Covid       0.47      0.50      0.49       111\n",
      "      Normal       0.25      0.23      0.24        70\n",
      "   Pneumonia       0.31      0.30      0.31        70\n",
      "\n",
      "    accuracy                           0.37       251\n",
      "   macro avg       0.34      0.34      0.34       251\n",
      "weighted avg       0.36      0.37      0.37       251\n",
      "\n"
     ]
    }
   ],
   "source": [
    "test_steps_per_epoch = numpy.math.ceil(validation_iterator.samples / validation_iterator.batch_size)\n",
    "predictions = model.predict(validation_iterator, steps=test_steps_per_epoch)\n",
    "test_steps_per_epoch = numpy.math.ceil(validation_iterator.samples / validation_iterator.batch_size)\n",
    "predicted_classes = numpy.argmax(predictions, axis=1)\n",
    "true_classes = validation_iterator.classes\n",
    "class_labels = list(validation_iterator.class_indices.keys())\n",
    "report = classification_report(true_classes, predicted_classes, target_names=class_labels)\n",
    "print(report)   "
   ]
  },
  {
   "cell_type": "code",
   "execution_count": 13,
   "metadata": {},
   "outputs": [
    {
     "name": "stdout",
     "output_type": "stream",
     "text": [
      "[[56 32 23]\n",
      " [31 16 23]\n",
      " [32 17 21]]\n"
     ]
    }
   ],
   "source": [
    "cm=confusion_matrix(true_classes,predicted_classes)\n",
    "print(cm)"
   ]
  },
  {
   "cell_type": "code",
   "execution_count": 18,
   "metadata": {},
   "outputs": [
    {
     "name": "stdout",
     "output_type": "stream",
     "text": [
      "The snakeviz extension is already loaded. To reload it, use:\n",
      "  %reload_ext snakeviz\n",
      "8/8 [==============================] - 1s 129ms/step\n",
      " \n",
      "*** Profile stats marshalled to file 'C:\\\\Users\\\\alaso\\\\AppData\\\\Local\\\\Temp\\\\tmpwst5pbyp'.\n",
      "Embedding SnakeViz in this document...\n",
      "<function display at 0x000002637B0825C0>\n"
     ]
    },
    {
     "data": {
      "text/html": [
       "\n",
       "<iframe id='snakeviz-d64b898e-3345-11f0-9235-4cd577607d98' frameborder=0 seamless width='100%' height='1000'></iframe>\n",
       "<script>document.getElementById(\"snakeviz-d64b898e-3345-11f0-9235-4cd577607d98\").setAttribute(\"src\", \"http://\" + document.location.hostname + \":8080/snakeviz/C%3A%5CUsers%5Calaso%5CAppData%5CLocal%5CTemp%5Ctmpwst5pbyp\")</script>\n"
      ],
      "text/plain": [
       "<IPython.core.display.HTML object>"
      ]
     },
     "metadata": {},
     "output_type": "display_data"
    }
   ],
   "source": [
    "# 1) Load the SnakeViz IPython extension\n",
    "%load_ext snakeviz\n",
    "\n",
    "import math\n",
    "\n",
    "# 2) Define your inference routine exactly as before\n",
    "def run_inference():\n",
    "    steps = math.ceil(validation_iterator.samples / validation_iterator.batch_size)\n",
    "    _ = model.predict(validation_iterator, steps=steps)\n",
    "\n",
    "# 3) Fire up SnakeViz on that function — this will start the server\n",
    "#    and open your default browser to the flame-graph UI\n",
    "%snakeviz run_inference()\n"
   ]
  },
  {
   "cell_type": "code",
   "execution_count": 19,
   "metadata": {},
   "outputs": [
    {
     "name": "stdout",
     "output_type": "stream",
     "text": [
      "8/8 [==============================] - 1s 91ms/step\n",
      "SnakeViz should now be running at http://127.0.0.1:5555/\n"
     ]
    }
   ],
   "source": [
    "import cProfile, math, subprocess, time, webbrowser\n",
    "\n",
    "# 1) Profile and dump to a .prof file\n",
    "profiler = cProfile.Profile()\n",
    "profiler.enable()\n",
    "run_inference()\n",
    "profiler.disable()\n",
    "profiler.dump_stats(\"inference.prof\")\n",
    "\n",
    "# 2) Launch SnakeViz as a standalone server on a known port\n",
    "port = 5555\n",
    "subprocess.Popen([\n",
    "    \"python\", \"-m\", \"snakeviz\", \"inference.prof\",\n",
    "    \"--port\", str(port)\n",
    "])\n",
    "\n",
    "# 3) Give it a moment to start up\n",
    "time.sleep(2)\n",
    "\n",
    "# 4) Open a new Chrome tab to the SnakeViz UI\n",
    "url = f\"http://127.0.0.1:{port}/\"\n",
    "# On Windows, 'start' will invoke the default browser; adjust if Chrome is your default\n",
    "subprocess.Popen(['start', url], shell=True)\n",
    "\n",
    "print(f\"SnakeViz should now be running at {url}\")\n"
   ]
  },
  {
   "cell_type": "code",
   "execution_count": 27,
   "metadata": {},
   "outputs": [
    {
     "name": "stderr",
     "output_type": "stream",
     "text": [
      "[NbConvertApp] Converting notebook classification-challenge-sol.ipynb to script\n",
      "[NbConvertApp] Writing 6258 bytes to classification-challenge-sol.py\n"
     ]
    }
   ],
   "source": [
    "!jupyter nbconvert --to script classification-challenge-sol.ipynb\n",
    "\n"
   ]
  },
  {
   "cell_type": "code",
   "execution_count": 26,
   "metadata": {},
   "outputs": [
    {
     "name": "stdout",
     "output_type": "stream",
     "text": [
      "Collecting nbconvert\n",
      "  Downloading nbconvert-7.16.6-py3-none-any.whl (258 kB)\n",
      "                                              0.0/258.5 kB ? eta -:--:--\n",
      "     ------------------------------------  256.0/258.5 kB 16.4 MB/s eta 0:00:01\n",
      "     -------------------------------------- 258.5/258.5 kB 8.0 MB/s eta 0:00:00\n",
      "Requirement already satisfied: beautifulsoup4 in c:\\users\\alaso\\appdata\\local\\programs\\python\\python311\\lib\\site-packages (from nbconvert) (4.13.4)\n",
      "Collecting bleach[css]!=5.0.0 (from nbconvert)\n",
      "  Downloading bleach-6.2.0-py3-none-any.whl (163 kB)\n",
      "                                              0.0/163.4 kB ? eta -:--:--\n",
      "     -------------------------------------- 163.4/163.4 kB 9.6 MB/s eta 0:00:00\n",
      "Collecting defusedxml (from nbconvert)\n",
      "  Downloading defusedxml-0.7.1-py2.py3-none-any.whl (25 kB)\n",
      "Requirement already satisfied: jinja2>=3.0 in c:\\users\\alaso\\appdata\\local\\programs\\python\\python311\\lib\\site-packages (from nbconvert) (3.1.2)\n",
      "Requirement already satisfied: jupyter-core>=4.7 in c:\\users\\alaso\\appdata\\roaming\\python\\python311\\site-packages (from nbconvert) (5.3.1)\n",
      "Collecting jupyterlab-pygments (from nbconvert)\n",
      "  Downloading jupyterlab_pygments-0.3.0-py3-none-any.whl (15 kB)\n",
      "Requirement already satisfied: markupsafe>=2.0 in c:\\users\\alaso\\appdata\\local\\programs\\python\\python311\\lib\\site-packages (from nbconvert) (2.1.3)\n",
      "Collecting mistune<4,>=2.0.3 (from nbconvert)\n",
      "  Downloading mistune-3.1.3-py3-none-any.whl (53 kB)\n",
      "                                              0.0/53.4 kB ? eta -:--:--\n",
      "     ---------------------------------------- 53.4/53.4 kB ? eta 0:00:00\n",
      "Collecting nbclient>=0.5.0 (from nbconvert)\n",
      "  Downloading nbclient-0.10.2-py3-none-any.whl (25 kB)\n",
      "Collecting nbformat>=5.7 (from nbconvert)\n",
      "  Downloading nbformat-5.10.4-py3-none-any.whl (78 kB)\n",
      "                                              0.0/78.5 kB ? eta -:--:--\n",
      "     ---------------------------------------- 78.5/78.5 kB ? eta 0:00:00\n",
      "Requirement already satisfied: packaging in c:\\users\\alaso\\appdata\\local\\programs\\python\\python311\\lib\\site-packages (from nbconvert) (23.1)\n",
      "Collecting pandocfilters>=1.4.1 (from nbconvert)\n",
      "  Downloading pandocfilters-1.5.1-py2.py3-none-any.whl (8.7 kB)\n",
      "Requirement already satisfied: pygments>=2.4.1 in c:\\users\\alaso\\appdata\\local\\programs\\python\\python311\\lib\\site-packages (from nbconvert) (2.15.1)\n",
      "Requirement already satisfied: traitlets>=5.1 in c:\\users\\alaso\\appdata\\roaming\\python\\python311\\site-packages (from nbconvert) (5.9.0)\n",
      "Collecting webencodings (from bleach[css]!=5.0.0->nbconvert)\n",
      "  Downloading webencodings-0.5.1-py2.py3-none-any.whl (11 kB)\n",
      "Collecting tinycss2<1.5,>=1.1.0 (from bleach[css]!=5.0.0->nbconvert)\n",
      "  Downloading tinycss2-1.4.0-py3-none-any.whl (26 kB)\n",
      "Requirement already satisfied: platformdirs>=2.5 in c:\\users\\alaso\\appdata\\roaming\\python\\python311\\site-packages (from jupyter-core>=4.7->nbconvert) (3.8.1)\n",
      "Requirement already satisfied: pywin32>=300 in c:\\users\\alaso\\appdata\\roaming\\python\\python311\\site-packages (from jupyter-core>=4.7->nbconvert) (306)\n",
      "Requirement already satisfied: jupyter-client>=6.1.12 in c:\\users\\alaso\\appdata\\roaming\\python\\python311\\site-packages (from nbclient>=0.5.0->nbconvert) (8.3.0)\n",
      "Collecting fastjsonschema>=2.15 (from nbformat>=5.7->nbconvert)\n",
      "  Downloading fastjsonschema-2.21.1-py3-none-any.whl (23 kB)\n",
      "Requirement already satisfied: jsonschema>=2.6 in c:\\users\\alaso\\appdata\\local\\programs\\python\\python311\\lib\\site-packages (from nbformat>=5.7->nbconvert) (4.18.3)\n",
      "Requirement already satisfied: soupsieve>1.2 in c:\\users\\alaso\\appdata\\local\\programs\\python\\python311\\lib\\site-packages (from beautifulsoup4->nbconvert) (2.7)\n",
      "Requirement already satisfied: typing-extensions>=4.0.0 in c:\\users\\alaso\\appdata\\local\\programs\\python\\python311\\lib\\site-packages (from beautifulsoup4->nbconvert) (4.5.0)\n",
      "Requirement already satisfied: attrs>=22.2.0 in c:\\users\\alaso\\appdata\\local\\programs\\python\\python311\\lib\\site-packages (from jsonschema>=2.6->nbformat>=5.7->nbconvert) (23.1.0)\n",
      "Requirement already satisfied: jsonschema-specifications>=2023.03.6 in c:\\users\\alaso\\appdata\\local\\programs\\python\\python311\\lib\\site-packages (from jsonschema>=2.6->nbformat>=5.7->nbconvert) (2023.6.1)\n",
      "Requirement already satisfied: referencing>=0.28.4 in c:\\users\\alaso\\appdata\\local\\programs\\python\\python311\\lib\\site-packages (from jsonschema>=2.6->nbformat>=5.7->nbconvert) (0.29.1)\n",
      "Requirement already satisfied: rpds-py>=0.7.1 in c:\\users\\alaso\\appdata\\local\\programs\\python\\python311\\lib\\site-packages (from jsonschema>=2.6->nbformat>=5.7->nbconvert) (0.8.10)\n",
      "Requirement already satisfied: python-dateutil>=2.8.2 in c:\\users\\alaso\\appdata\\local\\programs\\python\\python311\\lib\\site-packages (from jupyter-client>=6.1.12->nbclient>=0.5.0->nbconvert) (2.8.2)\n",
      "Requirement already satisfied: pyzmq>=23.0 in c:\\users\\alaso\\appdata\\roaming\\python\\python311\\site-packages (from jupyter-client>=6.1.12->nbclient>=0.5.0->nbconvert) (25.1.0)\n",
      "Requirement already satisfied: tornado>=6.2 in c:\\users\\alaso\\appdata\\roaming\\python\\python311\\site-packages (from jupyter-client>=6.1.12->nbclient>=0.5.0->nbconvert) (6.3.2)\n",
      "Requirement already satisfied: six>=1.5 in c:\\users\\alaso\\appdata\\local\\programs\\python\\python311\\lib\\site-packages (from python-dateutil>=2.8.2->jupyter-client>=6.1.12->nbclient>=0.5.0->nbconvert) (1.16.0)\n",
      "Installing collected packages: webencodings, fastjsonschema, tinycss2, pandocfilters, mistune, jupyterlab-pygments, defusedxml, bleach, nbformat, nbclient, nbconvert\n",
      "Successfully installed bleach-6.2.0 defusedxml-0.7.1 fastjsonschema-2.21.1 jupyterlab-pygments-0.3.0 mistune-3.1.3 nbclient-0.10.2 nbconvert-7.16.6 nbformat-5.10.4 pandocfilters-1.5.1 tinycss2-1.4.0 webencodings-0.5.1\n"
     ]
    },
    {
     "name": "stderr",
     "output_type": "stream",
     "text": [
      "WARNING: Ignoring invalid distribution ~upyterlab (C:\\Users\\alaso\\AppData\\Local\\Programs\\Python\\Python311\\Lib\\site-packages)\n",
      "WARNING: Ignoring invalid distribution ~ygame (C:\\Users\\alaso\\AppData\\Local\\Programs\\Python\\Python311\\Lib\\site-packages)\n",
      "WARNING: Ignoring invalid distribution ~upyterlab (C:\\Users\\alaso\\AppData\\Local\\Programs\\Python\\Python311\\Lib\\site-packages)\n",
      "WARNING: Ignoring invalid distribution ~ygame (C:\\Users\\alaso\\AppData\\Local\\Programs\\Python\\Python311\\Lib\\site-packages)\n",
      "\n",
      "[notice] A new release of pip is available: 23.1.2 -> 25.1.1\n",
      "[notice] To update, run: python.exe -m pip install --upgrade pip\n"
     ]
    }
   ],
   "source": [
    "!pip install nbconvert"
   ]
  },
  {
   "cell_type": "code",
   "execution_count": null,
   "metadata": {},
   "outputs": [],
   "source": []
  }
 ],
 "metadata": {
  "kernelspec": {
   "display_name": "Python 3",
   "language": "python",
   "name": "python3"
  },
  "language_info": {
   "codemirror_mode": {
    "name": "ipython",
    "version": 3
   },
   "file_extension": ".py",
   "mimetype": "text/x-python",
   "name": "python",
   "nbconvert_exporter": "python",
   "pygments_lexer": "ipython3",
   "version": "3.11.3"
  }
 },
 "nbformat": 4,
 "nbformat_minor": 2
}
